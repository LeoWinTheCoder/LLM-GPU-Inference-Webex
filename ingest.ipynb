{
 "cells": [
  {
   "cell_type": "code",
   "execution_count": 1,
   "id": "1f353b88-1878-4f37-9f8b-6b746ff0c3ee",
   "metadata": {},
   "outputs": [],
   "source": [
    "from torch import cuda\n",
    "from langchain.embeddings.huggingface import HuggingFaceEmbeddings\n",
    "\n",
    "embed_model_id = 'sentence-transformers/all-MiniLM-L6-v2'#'BAAI/bge-large-en'\n",
    "\n",
    "device = f'cuda:{cuda.current_device()}' if cuda.is_available() else 'cpu'\n",
    "\n",
    "embed_model = HuggingFaceEmbeddings(\n",
    "    model_name=embed_model_id,\n",
    "    model_kwargs={'device': device},\n",
    "    encode_kwargs={'device': device, 'batch_size': 32}\n",
    ")"
   ]
  },
  {
   "cell_type": "code",
   "execution_count": 2,
   "id": "026edc30-1b37-4e1b-b067-fa17ac7c7bea",
   "metadata": {},
   "outputs": [],
   "source": [
    "import os\n",
    "from langchain.vectorstores import FAISS\n",
    "from langchain.document_loaders import PyPDFLoader\n",
    "from langchain.chains.question_answering import load_qa_chain\n",
    "from langchain.prompts import PromptTemplate\n",
    "from langchain.memory import ConversationBufferMemory\n",
    "from langchain.embeddings import HuggingFaceEmbeddings\n",
    "from langchain.chains import RetrievalQA\n",
    "from langchain.document_loaders import UnstructuredFileLoader\n",
    "from langchain.text_splitter import RecursiveCharacterTextSplitter\n",
    "from langchain.chains import RetrievalQAWithSourcesChain\n",
    "from langchain.document_loaders import DirectoryLoader\n",
    "from langchain.document_loaders import PyPDFLoader\n",
    "from transformers import pipeline\n",
    "from transformers import AutoTokenizer, AutoModelForCausalLM\n",
    "from langchain import HuggingFacePipeline\n",
    "from langchain.text_splitter import CharacterTextSplitter\n",
    "import textwrap\n",
    "import sys\n",
    "\n",
    "os.environ['HuggingFaceHub_API_Token']= 'YOUR KEY'"
   ]
  },
  {
   "cell_type": "code",
   "execution_count": 3,
   "id": "f0c3de4e-e48e-4989-8184-9b6bb5c3943d",
   "metadata": {},
   "outputs": [
    {
     "name": "stderr",
     "output_type": "stream",
     "text": [
      " 50%|█████████████████████████████████████████████████████████████████                                                                 | 1/2 [00:07<00:07,  7.44s/it]\n",
      " 99%|█████████████████████████████████████████████████████████████████████████████████████████████████████████████████████████████ | 262/264 [00:15<00:00, 16.80it/s]\n",
      "0it [00:00, ?it/s]\n"
     ]
    }
   ],
   "source": [
    "BASE_FOLDER = \"RAW_DATA\"\n",
    "loaders = {\n",
    "    '.pdf': DirectoryLoader(\n",
    "        path=BASE_FOLDER,\n",
    "        glob=\"**/*.pdf\",\n",
    "        show_progress=True\n",
    "    ),\n",
    "    '.md': DirectoryLoader(\n",
    "        path=BASE_FOLDER,\n",
    "        glob=\"**/*.md\",\n",
    "        show_progress=True\n",
    "    ),\n",
    "    '.txt': DirectoryLoader(\n",
    "        path=BASE_FOLDER,\n",
    "        glob=\"**/*.txt\",\n",
    "        show_progress=True\n",
    "    ),\n",
    "    # Add other file types and their respective loaders here\n",
    "}\n",
    "\n",
    "docs = []\n",
    "for loader in loaders.values():\n",
    "    docs.extend(loader.load())"
   ]
  },
  {
   "cell_type": "code",
   "execution_count": 4,
   "id": "d94ae196-f4ef-4342-9105-9ae291284d40",
   "metadata": {},
   "outputs": [],
   "source": [
    "text_splitter=CharacterTextSplitter(separator='\\n', chunk_size=3200, chunk_overlap=20)\n",
    "text_chunks=text_splitter.split_documents(docs)\n",
    "#document_splitter=CharacterTextSplitter(separator='\\n', chunk_size=1000, chunk_overlap=100)\n",
    "#document_chunks=document_splitter.split_documents(docs)\n",
    "len(text_chunks)\n",
    "embeddings = HuggingFaceEmbeddings(model_name='sentence-transformers/all-MiniLM-L6-v2')#'BAAI/bge-large-en')\n",
    "vectordb = FAISS.from_documents(text_chunks,embedding=embeddings)#, persist_directory='PROCESSED_DATA/db')\n",
    "#vectordb.persist()\n",
    "vectordb.save_local(\"PROCESSED_DATA\")\n",
    "#FAISS.from_documents()"
   ]
  },
  {
   "cell_type": "code",
   "execution_count": null,
   "id": "b410d8a9-55c3-4d11-94db-89f5957ad83b",
   "metadata": {},
   "outputs": [],
   "source": []
  }
 ],
 "metadata": {
  "kernelspec": {
   "display_name": "Python 3 (ipykernel)",
   "language": "python",
   "name": "python3"
  },
  "language_info": {
   "codemirror_mode": {
    "name": "ipython",
    "version": 3
   },
   "file_extension": ".py",
   "mimetype": "text/x-python",
   "name": "python",
   "nbconvert_exporter": "python",
   "pygments_lexer": "ipython3",
   "version": "3.10.0"
  }
 },
 "nbformat": 4,
 "nbformat_minor": 5
}
